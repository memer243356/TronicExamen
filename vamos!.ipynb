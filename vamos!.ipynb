{
 "cells": [
  {
   "cell_type": "code",
   "execution_count": 1,
   "metadata": {},
   "outputs": [
    {
     "name": "stdout",
     "output_type": "stream",
     "text": [
      "guau\n",
      "Miau!\n",
      "Hola mundo\n"
     ]
    }
   ],
   "source": [
    "class animal:\n",
    "    def hacersonido(self):\n",
    "        print(\"Hago un sonido\")\n",
    "\n",
    "class Perro:\n",
    "    def hacersonido(self):\n",
    "        print(\"guau\")\n",
    "\n",
    "class Gato:\n",
    "    def hacersonido(self):\n",
    "        print(\"Miau!\")\n",
    "\n",
    "class Aveafricana:\n",
    "    def hacersonido(self):\n",
    "        print(\"Hola mundo\")\n",
    "\n",
    "def escucharsonido(animal):\n",
    "    animal.hacersonido()\n",
    "\n",
    "elperro = Perro()\n",
    "elgato = Gato()\n",
    "elaveafricana = Aveafricana()\n",
    "escucharsonido(elperro)\n",
    "escucharsonido(elgato)\n",
    "escucharsonido(elaveafricana)"
   ]
  },
  {
   "cell_type": "markdown",
   "metadata": {},
   "source": [
    "#crear una clase persona que tenga clases derivadas como profesor estudiante y director uwu\n",
    "#polimorfismo va a ser interactuar con las demas clases "
   ]
  },
  {
   "cell_type": "code",
   "execution_count": 24,
   "metadata": {},
   "outputs": [
    {
     "name": "stdout",
     "output_type": "stream",
     "text": [
      "Primero: Hola, soy el profesor Velazques\n",
      "Segundo: Hola, es un gusto conocerte\n",
      " \n",
      "Primero: Hola, soy el director Pancho\n",
      "Segundo: Hola, es un gusto conocerte\n",
      " \n",
      "Primero: Hola, soy el director Pancho\n",
      "Segundo: Hola, es un gusto conocerte\n",
      " \n"
     ]
    }
   ],
   "source": [
    "class persona:\n",
    "    def hablar(self):\n",
    "        return \"tengo texto aqui\"\n",
    "    def hablarsegundo(self):\n",
    "        return \"tengo otro texto aqui\"\n",
    "\n",
    "class profesor:\n",
    "    def hablar(self):\n",
    "        return\"Hola, soy el profesor Velazques\"\n",
    "    def Hablarsegundo(self):\n",
    "        return \"Hola, es un gusto conocerte\"\n",
    "class Estudiante:\n",
    "    def hablar(self):\n",
    "        return \"Hola, soy el estudainte Pacheco\"\n",
    "    def Hablarsegundo(self):\n",
    "        return \"Hola, es un gusto conocerte\"\n",
    "\n",
    "class director:\n",
    "    def hablar(self):\n",
    "        return \"Hola, soy el director Pancho\"\n",
    "    def Hablarsegundo(self):\n",
    "        return \"Hola, es un gusto conocerte\"\n",
    "    \n",
    "elprofesor = profesor()\n",
    "elestudiante = Estudiante()\n",
    "eldirector = director()\n",
    "\n",
    "def hablamos(primero, segundo):\n",
    "    print(\"Primero:\", primero.hablar())\n",
    "    print(\"Segundo:\", segundo.Hablarsegundo())\n",
    "    print(\" \")\n",
    "\n",
    "hablamos(elprofesor, elestudiante)\n",
    "hablamos(eldirector, elprofesor)\n",
    "hablamos(eldirector, elestudiante)"
   ]
  },
  {
   "cell_type": "markdown",
   "metadata": {},
   "source": [
    "\n",
    "#crear una clase empleado, que tenga clases derivadas como gerente y desarrollador\n",
    "#polimorfismo va a ser para interactuar para con las demas clases"
   ]
  },
  {
   "cell_type": "code",
   "execution_count": 30,
   "metadata": {},
   "outputs": [
    {
     "name": "stdout",
     "output_type": "stream",
     "text": [
      "buenas tardes, soy el nuevo desarrollador\n",
      "None\n",
      "vale, eres bienvendio a Tronic\n",
      "None\n",
      " \n",
      "Hey, debes de ser nuevo por aqui, bienvendio a Tronic\n",
      "None\n",
      "Hola.... Yo soy el nuevo Desarrollador\n",
      "None\n",
      " \n"
     ]
    }
   ],
   "source": [
    "class empleado:\n",
    "    def hablar(self):\n",
    "        print(\"tengotextoqui\")\n",
    "    def hablar2(self):\n",
    "        print(\"tengootrotextoaqui\")\n",
    "\n",
    "class Gerente:\n",
    "    def hablar(self):\n",
    "        print(\"Hey, debes de ser nuevo por aqui, bienvendio a Tronic\")\n",
    "    def hablar2(self):\n",
    "        print(\"vale, eres bienvendio a Tronic\")\n",
    "\n",
    "class desarollador:\n",
    "    def hablar(self):\n",
    "        print(\"buenas tardes, soy el nuevo desarrollador\")\n",
    "    def hablar2(self):\n",
    "        print(\"Hola.... Yo soy el nuevo Desarrollador\")\n",
    "\n",
    "\n",
    "\n",
    "elGerente = Gerente()\n",
    "eldesarrollador = desarollador()\n",
    "\n",
    "\n",
    "def hablamos(primero, segundo):\n",
    "    print(primero.hablar())\n",
    "    print(segundo.hablar2())\n",
    "    print(\" \")\n",
    "\n",
    "hablamos(eldesarrollador, elGerente)\n",
    "hablamos(elGerente, eldesarrollador)\n"
   ]
  }
 ],
 "metadata": {
  "kernelspec": {
   "display_name": "Python 3",
   "language": "python",
   "name": "python3"
  },
  "language_info": {
   "codemirror_mode": {
    "name": "ipython",
    "version": 3
   },
   "file_extension": ".py",
   "mimetype": "text/x-python",
   "name": "python",
   "nbconvert_exporter": "python",
   "pygments_lexer": "ipython3",
   "version": "3.11.5"
  }
 },
 "nbformat": 4,
 "nbformat_minor": 2
}
